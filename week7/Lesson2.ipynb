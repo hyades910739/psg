{
 "cells": [
  {
   "cell_type": "markdown",
   "metadata": {},
   "source": [
    "## 類產生多個實例\n",
    "* 類是用來產生實例的工具\n"
   ]
  },
  {
   "cell_type": "markdown",
   "metadata": {},
   "source": [
    "1. x, y 都為 FirstClass 底下空的實例\n",
    "2. 呼叫 setdata 的方法來替實例增加屬性\n",
    "3. 調用類的方法 (display)"
   ]
  },
  {
   "cell_type": "code",
   "execution_count": 4,
   "metadata": {},
   "outputs": [
    {
     "name": "stdout",
     "output_type": "stream",
     "text": [
      "Louis\n",
      "3.14159\n"
     ]
    }
   ],
   "source": [
    "class FirstClass:\n",
    "    def setdata(self, value):\n",
    "        self.data = value\n",
    "    def display(self):\n",
    "        print(self.data)\n",
    "        \n",
    "x = FirstClass()\n",
    "y = FirstClass()\n",
    "\n",
    "\n",
    "x.setdata(\"Louis\") # setdata(x, \"Louis\")\n",
    "y.setdata(3.14159)\n",
    "\n",
    "\n",
    "x.display()\n",
    "y.display()\n"
   ]
  },
  {
   "cell_type": "markdown",
   "metadata": {},
   "source": [
    "### 可以在類的外部修改實例的屬性"
   ]
  },
  {
   "cell_type": "code",
   "execution_count": 5,
   "metadata": {},
   "outputs": [
    {
     "name": "stdout",
     "output_type": "stream",
     "text": [
      "New value\n"
     ]
    }
   ],
   "source": [
    "x.data = \"New value\"\n",
    "x.display()"
   ]
  },
  {
   "cell_type": "markdown",
   "metadata": {},
   "source": [
    "## 類通過繼承進行定制"
   ]
  },
  {
   "cell_type": "code",
   "execution_count": 6,
   "metadata": {},
   "outputs": [],
   "source": [
    "class SecondClass(FirstClass):\n",
    "    def display(self):\n",
    "        print('Current value = \"%s\"' % self.data)"
   ]
  },
  {
   "cell_type": "code",
   "execution_count": 8,
   "metadata": {},
   "outputs": [
    {
     "name": "stdout",
     "output_type": "stream",
     "text": [
      "Current value = \"42\"\n"
     ]
    }
   ],
   "source": [
    "z = SecondClass()\n",
    "z.setdata('42')\n",
    "z.display()"
   ]
  },
  {
   "cell_type": "markdown",
   "metadata": {},
   "source": [
    "x 這個實例並不會調用 SecondClass 的 Display 的方法"
   ]
  },
  {
   "cell_type": "code",
   "execution_count": 9,
   "metadata": {},
   "outputs": [
    {
     "name": "stdout",
     "output_type": "stream",
     "text": [
      "New value\n"
     ]
    }
   ],
   "source": [
    "x.display()"
   ]
  },
  {
   "cell_type": "markdown",
   "metadata": {},
   "source": [
    "## 類可以截取 Python 運算符\n",
    "運算符重載就是用類寫成的對象，可使用python內置類型上的運算（加法 打印 切片 迭代）\n",
    "運算符重載都以雙\n",
    "\n",
    "ex.\n",
    "\n",
    "Class Louis: ...\n",
    "\n",
    "print(Louis) = ??\n",
    "\n",
    "Louis + 3 = ??\n",
    "\n",
    "for i in Louis: ... ??\n"
   ]
  },
  {
   "cell_type": "code",
   "execution_count": 12,
   "metadata": {},
   "outputs": [],
   "source": [
    "class ThirdClass(SecondClass):\n",
    "    def __init__(self, value):\n",
    "        self.data = value\n",
    "    def __add__(self, other):\n",
    "        return ThirdClass(self.data + other)\n",
    "    def __str__(self):\n",
    "        return '[ThirdClass: %s]' % self.data\n",
    "    def mul(self, other):\n",
    "        self.data *= other"
   ]
  },
  {
   "cell_type": "code",
   "execution_count": 14,
   "metadata": {},
   "outputs": [
    {
     "name": "stdout",
     "output_type": "stream",
     "text": [
      "Current value = \"abc\"\n",
      "[ThirdClass: abc]\n"
     ]
    }
   ],
   "source": [
    "a = ThirdClass('abc')\n",
    "a.display()\n",
    "print(a)"
   ]
  },
  {
   "cell_type": "code",
   "execution_count": 16,
   "metadata": {},
   "outputs": [
    {
     "name": "stdout",
     "output_type": "stream",
     "text": [
      "Current value = \"abcxyz\"\n",
      "[ThirdClass: abcxyz]\n"
     ]
    }
   ],
   "source": [
    "b = a + 'xyz'\n",
    "b.display()\n",
    "print(b)"
   ]
  },
  {
   "cell_type": "code",
   "execution_count": 17,
   "metadata": {},
   "outputs": [
    {
     "name": "stdout",
     "output_type": "stream",
     "text": [
      "[ThirdClass: abcabcabc]\n"
     ]
    }
   ],
   "source": [
    "a.mul(3)\n",
    "print(a)"
   ]
  },
  {
   "cell_type": "markdown",
   "metadata": {},
   "source": [
    "## 類與字典的關係"
   ]
  },
  {
   "cell_type": "markdown",
   "metadata": {},
   "source": [
    "### 字典"
   ]
  },
  {
   "cell_type": "code",
   "execution_count": 19,
   "metadata": {},
   "outputs": [
    {
     "name": "stdout",
     "output_type": "stream",
     "text": [
      "Louis\n"
     ]
    }
   ],
   "source": [
    "rec = {}\n",
    "rec['name'] = 'Louis'\n",
    "rec['age'] = 24\n",
    "rec['job'] = 'Student'\n",
    "\n",
    "print(rec['name'])"
   ]
  },
  {
   "cell_type": "markdown",
   "metadata": {},
   "source": [
    "### 用類來替代字典"
   ]
  },
  {
   "cell_type": "code",
   "execution_count": 20,
   "metadata": {},
   "outputs": [
    {
     "name": "stdout",
     "output_type": "stream",
     "text": [
      "24\n"
     ]
    }
   ],
   "source": [
    "class rec: pass\n",
    "\n",
    "rec.name = 'Louis'\n",
    "rec.age = 24\n",
    "rec.job = 'Student'\n",
    "\n",
    "print(rec.age)"
   ]
  },
  {
   "cell_type": "markdown",
   "metadata": {},
   "source": [
    "#### 當要記錄的人越來越多時，可以用實例的方式來達成"
   ]
  },
  {
   "cell_type": "code",
   "execution_count": 21,
   "metadata": {},
   "outputs": [
    {
     "name": "stdout",
     "output_type": "stream",
     "text": [
      "Louis Rita\n"
     ]
    }
   ],
   "source": [
    "class rec: pass\n",
    "pers1 = rec()\n",
    "pers1.name = 'Louis'\n",
    "pers1.age = 24\n",
    "pers1.job = 'Student'\n",
    "\n",
    "pers2 = rec()\n",
    "pers2.name = 'Rita'\n",
    "pers2.age = 22\n",
    "pers2.job = 'Student'\n",
    "\n",
    "print(pers1.name, pers2.name)"
   ]
  },
  {
   "cell_type": "markdown",
   "metadata": {},
   "source": [
    "#### 也可以這樣做"
   ]
  },
  {
   "cell_type": "code",
   "execution_count": 22,
   "metadata": {},
   "outputs": [
    {
     "name": "stdout",
     "output_type": "stream",
     "text": [
      "Student \n",
      " ('Rita', 'Student')\n"
     ]
    }
   ],
   "source": [
    "class Person:\n",
    "    def __init__(self, name, job):\n",
    "        self.name = name\n",
    "        self.job = job\n",
    "    def info(self):\n",
    "        return (self.name, self.job)\n",
    "    \n",
    "rec1 = Person('Louis', 'Student')\n",
    "rec2 = Person('Rita', 'Student')\n",
    "\n",
    "print(rec1.job, '\\n', rec2.info())"
   ]
  },
  {
   "cell_type": "code",
   "execution_count": null,
   "metadata": {},
   "outputs": [],
   "source": []
  }
 ],
 "metadata": {
  "kernelspec": {
   "display_name": "Python 3",
   "language": "python",
   "name": "python3"
  },
  "language_info": {
   "codemirror_mode": {
    "name": "ipython",
    "version": 3
   },
   "file_extension": ".py",
   "mimetype": "text/x-python",
   "name": "python",
   "nbconvert_exporter": "python",
   "pygments_lexer": "ipython3",
   "version": "3.6.5"
  }
 },
 "nbformat": 4,
 "nbformat_minor": 2
}
