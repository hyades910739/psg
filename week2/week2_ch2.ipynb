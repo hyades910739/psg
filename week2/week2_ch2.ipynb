{
 "cells": [
  {
   "cell_type": "markdown",
   "metadata": {},
   "source": [
    "# PSG week2\n",
    "re模塊(Regular Expression)中文叫正則表達式，是一個文本匹配以及解析工具， 可以在一大串字符中找想找的内容 "
   ]
  },
  {
   "cell_type": "markdown",
   "metadata": {},
   "source": [
    "```\n",
    "常用語法\n",
    "符號         意義                     備註                   \n",
    ".           所有\n",
    "^           限定字串開頭    \n",
    "$           限定字串結尾\n",
    "* ?         皆為後面可有0或多個字\n",
    "+           後面可有1或多個字\n",
    "*? +? ??    只找出搜尋結果的第一個\n",
    "{m}         對前一個字符重複m次\n",
    "[]          匹配[]內的字符         [a-z A-Z 0-9]配對所有英文字母及數字 但[^6] 為配對6以外的數字\n",
    "()          匹配()內的任意正則表達式\n",
    "參考:https://www.ibm.com/developerworks/cn/opensource/os-cn-pythonre/index.html\n",
    "```"
   ]
  },
  {
   "cell_type": "markdown",
   "metadata": {},
   "source": [
    "```\n",
    "\\ 對特殊字轉義 或指定特殊序列\n",
    "常用特殊序列\n",
    "符號         意義                 相當於\n",
    "\\A           只配對字串開頭\n",
    "\\Z           只配對字串結尾\n",
    "\\d           匹配0-9             [0-9]\n",
    "\\D           匹配非0-9           [^0-9]\n",
    "\\s           匹配任意空白        [\\t\\n\\r\\f\\v]\n",
    "\\S           匹配非任意空白      [^\\t\\n\\r\\f\\v]\n",
    "\\w           匹配任意数字和字母   [a-zA-Z0-9_]\n",
    "\\W           匹配非任意数字和字母 [^a-zA-Z0-9_]\n",
    "參考:https://www.ibm.com/developerworks/cn/opensource/os-cn-pythonre/index.html          \n",
    "```"
   ]
  },
  {
   "cell_type": "markdown",
   "metadata": {},
   "source": [
    "# 2.1 用界定符分割字串  \n",
    "# re.split()\n",
    "比較.split()與re.split()"
   ]
  },
  {
   "cell_type": "code",
   "execution_count": null,
   "metadata": {},
   "outputs": [],
   "source": [
    "import re\n",
    "s1=\"aa bb          cc\"\n",
    "print(s1.split(' '))\n",
    "print(re.split(r'[\\s]\\s*',s1))"
   ]
  },
  {
   "cell_type": "markdown",
   "metadata": {},
   "source": [
    "用()匹配時 被匹配的字也會輸出 "
   ]
  },
  {
   "cell_type": "code",
   "execution_count": null,
   "metadata": {},
   "outputs": [],
   "source": [
    "line = 'asdf fjdk; afed, fjek,asdf, foo'\n",
    "print(re.split(r'(;|,|\\s)\\s*', line))\n",
    "print(re.split(r'[;|,|\\s]\\s*', line))\n",
    "#用  ?: 去掉分隔符\n",
    "print(re.split(r'(?:,|;|\\s)\\s*', line))"
   ]
  },
  {
   "cell_type": "markdown",
   "metadata": {},
   "source": [
    "# 2.2 配對字符串的開頭或結尾\n",
    "```\n",
    ".endswith('')  \n",
    ".startswith('') \n",
    "可應用於檢查網址或者檔名\n",
    "```"
   ]
  },
  {
   "cell_type": "code",
   "execution_count": null,
   "metadata": {},
   "outputs": [],
   "source": [
    "filename = 'spam.txt'\n",
    "print(filename.endswith('.txt'))\n",
    "print(filename.startswith('file:'))\n"
   ]
  },
  {
   "cell_type": "markdown",
   "metadata": {},
   "source": [
    "```\n",
    "如果丟入的是網址 則用urlopen()開啟\n",
    "如果不是          用open()\n",
    "```"
   ]
  },
  {
   "cell_type": "code",
   "execution_count": null,
   "metadata": {},
   "outputs": [],
   "source": [
    "from urllib.request import urlopen\n",
    "def read_data(name):\n",
    "    if name.startswith(('http:', 'https:', 'ftp:')):\n",
    "        return urlopen(name).read()\n",
    "    else:\n",
    "        with open(name) as f:\n",
    "            return f.read()"
   ]
  },
  {
   "cell_type": "code",
   "execution_count": null,
   "metadata": {},
   "outputs": [],
   "source": [
    "read_data('https://github.com/hyades910739/psg')"
   ]
  },
  {
   "cell_type": "markdown",
   "metadata": {},
   "source": [
    "```\n",
    "要用集合表示需匹配的項目時 \n",
    "一定要化成tuple 如果用list或set會error\n",
    "```"
   ]
  },
  {
   "cell_type": "code",
   "execution_count": null,
   "metadata": {},
   "outputs": [],
   "source": [
    "choices = ['http:', 'ftp:']\n",
    "url = 'https://github.com/hyades910739/psg'\n",
    "#如果用  url.startswith(choices)  會error\n",
    "#要化成tuple 如下\n",
    "url.startswith(tuple(choices))   "
   ]
  },
  {
   "cell_type": "markdown",
   "metadata": {},
   "source": [
    "# 2.3 用通配符匹配\n",
    "```\n",
    "fnmatchcase()  大小寫需一樣\n",
    "fnmatch()     視作業系統而定   (Mac 對大小寫敏感  Windows 大小寫沒差)\n",
    "可用於處理非文件名的字符串\n",
    "```"
   ]
  },
  {
   "cell_type": "code",
   "execution_count": null,
   "metadata": {},
   "outputs": [],
   "source": [
    "from fnmatch import fnmatch, fnmatchcase\n",
    "print(\"Are 'foo.txt' and '*.txt' matched ?\",fnmatch('foo.txt', '*.txt'))\n",
    "print(\"Are 'foo.txt' and '*.txt' matched ?\",fnmatchcase('foo.txt', '*.TXT'))\n",
    "print(\"Are 'foo.txt' and '?oo.txt' matched ?\",fnmatch('foo.txt', '?oo.txt'))\n",
    "print(\"Are 'Dat45.csv' and 'Dat[0-9]*' matched ?\",fnmatch('Dat45.csv', 'Dat[0-9]*'))"
   ]
  },
  {
   "cell_type": "code",
   "execution_count": null,
   "metadata": {},
   "outputs": [],
   "source": [
    "addresses = [\n",
    "'5412 N CLARK ST',\n",
    "'1060 W ADDISON ST',\n",
    "'1039 W GRANVILLE AVE',\n",
    "'2122 N CLARK ST',\n",
    "'4802 N BROADWAY',\n",
    "]\n",
    "from fnmatch import fnmatchcase\n",
    "print([addr for addr in addresses if fnmatchcase(addr, '* ST')])\n",
    "print([addr for addr in addresses if fnmatchcase(addr, '54[0-9][0-9] *CLARK*')])"
   ]
  },
  {
   "cell_type": "markdown",
   "metadata": {},
   "source": [
    "# 2.4 複雜的字符串匹配\n",
    "```\n",
    "re.match()\n",
    "re.compile()\n",
    "```"
   ]
  },
  {
   "cell_type": "code",
   "execution_count": null,
   "metadata": {},
   "outputs": [],
   "source": [
    "import re\n",
    "text1 = '11/27/2012'\n",
    "text2 = 'Nov 27, 2012'\n",
    "if re.match(r'\\d+/\\d+/\\d+', text1):\n",
    "    print('yes')\n",
    "else:\n",
    "    print('no')"
   ]
  },
  {
   "cell_type": "markdown",
   "metadata": {},
   "source": [
    "```\n",
    ".compile() 可以將欲多次使用的匹配法儲存起來 \n",
    "再搭配.match()使用 \n",
    "```"
   ]
  },
  {
   "cell_type": "code",
   "execution_count": null,
   "metadata": {},
   "outputs": [],
   "source": [
    "datepat = re.compile(r'\\d+/\\d+/\\d+')\n",
    "if datepat.match(text1):\n",
    "    print('yes')\n",
    "else:\n",
    "    print('no')\n",
    "\n",
    "\n",
    "if datepat.match(text2):\n",
    "    print('yes')\n",
    "else:\n",
    "    print('no')"
   ]
  },
  {
   "cell_type": "markdown",
   "metadata": {},
   "source": [
    "```\n",
    ".match()     為從字符串開始去匹配\n",
    ".findall()   為尋找字符串中任意位置符合匹配的\n",
    "```"
   ]
  },
  {
   "cell_type": "code",
   "execution_count": null,
   "metadata": {},
   "outputs": [],
   "source": [
    "text = 'Today is 11/27/2012. PyCon starts 3/13/2013.'\n",
    "datepat.findall(text)"
   ]
  },
  {
   "cell_type": "markdown",
   "metadata": {},
   "source": [
    "在.compile()裡 用()包住欲匹配對象可以方便提取"
   ]
  },
  {
   "cell_type": "code",
   "execution_count": null,
   "metadata": {},
   "outputs": [],
   "source": [
    "datepat1 = re.compile(r'(\\d+)/(\\d+)/(\\d+)')\n",
    "m = datepat1.match('11/27/2012')\n",
    "print(m.group(0))\n",
    "print(m.group(1))\n",
    "print(m.group(2))\n",
    "print(m.group(3))\n",
    "print(m.groups())"
   ]
  },
  {
   "cell_type": "markdown",
   "metadata": {},
   "source": [
    ".finditer()以迭代方式產生"
   ]
  },
  {
   "cell_type": "code",
   "execution_count": null,
   "metadata": {},
   "outputs": [],
   "source": [
    "for m in datepat1.finditer(text):\n",
    "    print(m.groups())"
   ]
  },
  {
   "cell_type": "markdown",
   "metadata": {},
   "source": [
    "# 2.5 字符串搜索和替換"
   ]
  },
  {
   "cell_type": "markdown",
   "metadata": {},
   "source": [
    ".replace() 與re.sub()"
   ]
  },
  {
   "cell_type": "code",
   "execution_count": null,
   "metadata": {},
   "outputs": [],
   "source": [
    "text = 'yeah, but no, but yeah, but no, but yeah'\n",
    "print('origin        is:',text)\n",
    "print('after replace is:',text.replace('yeah', 'yep'))\n",
    "text2 = 'Today is 11/27/2012. PyCon starts 3/13/2013.'\n",
    "print('origin        is:',text2)\n",
    "print('after replace is:',re.sub(r'(\\d+)/(\\d+)/(\\d+)', r'\\3-\\1-\\2', text2))"
   ]
  },
  {
   "cell_type": "markdown",
   "metadata": {},
   "source": [
    "re.subn() 又多顯示取代了幾次"
   ]
  },
  {
   "cell_type": "code",
   "execution_count": null,
   "metadata": {},
   "outputs": [],
   "source": [
    "newtext, n = datepat1.subn(r'\\3-\\1-\\2', text2)\n",
    "print(newtext)\n",
    "print(n)"
   ]
  },
  {
   "cell_type": "markdown",
   "metadata": {},
   "source": [
    "# 2.6 替換時忽略大小寫\n",
    "flags=re.IGNORECASE"
   ]
  },
  {
   "cell_type": "code",
   "execution_count": null,
   "metadata": {},
   "outputs": [],
   "source": [
    "text = 'UPPER PYTHON, lower python, Mixed Python'\n",
    "#找出python 不管大小寫\n",
    "print(re.findall('python', text, flags=re.IGNORECASE))\n",
    "#只要是python 全換成snake\n",
    "# 但\n",
    "# 被取代的字不會因原字的大小寫狀態而改變\n",
    "print(re.sub('python', 'snake', text, flags=re.IGNORECASE))"
   ]
  },
  {
   "cell_type": "markdown",
   "metadata": {},
   "source": [
    "可定義隨原字而變的函數"
   ]
  },
  {
   "cell_type": "code",
   "execution_count": null,
   "metadata": {},
   "outputs": [],
   "source": [
    "def matchcase(word):\n",
    "    def replace(m):\n",
    "        text = m.group()\n",
    "        if text.isupper():   #檢驗是否全大寫\n",
    "            return word.upper()\n",
    "        elif text.islower(): #檢驗是否全小寫\n",
    "            return word.lower()\n",
    "        elif text[0].isupper():   #檢驗是否第一字為大寫\n",
    "            return word.capitalize()\n",
    "        else:\n",
    "            return word\n",
    "    return replace"
   ]
  },
  {
   "cell_type": "markdown",
   "metadata": {},
   "source": [
    "```\n",
    "matchcase('snake') 返回了一個回調函數(參數要是match 對象 ex:下面例子的python)\n",
    "sub() 函數除了接受替換字符串外，還能接受一個回調函數。\n",
    "```"
   ]
  },
  {
   "cell_type": "code",
   "execution_count": null,
   "metadata": {},
   "outputs": [],
   "source": [
    "re.sub('python', matchcase('snake'), text, flags=re.IGNORECASE)"
   ]
  },
  {
   "cell_type": "markdown",
   "metadata": {},
   "source": [
    "# 2.7  找最短的匹配\n",
    "```\n",
    "正則表達式匹配某個文本模式，可能找到的是最長的\n",
    "所以修改它變成查找最短的可能匹配\n",
    "```"
   ]
  },
  {
   "cell_type": "code",
   "execution_count": null,
   "metadata": {},
   "outputs": [],
   "source": [
    "#找雙引號內的字\n",
    "str_pat = re.compile(r'\\\"(.*)\\\"')\n",
    "text1 = 'Computer says \"no.\"'\n",
    "print(str_pat.findall(text1))\n",
    "text2 = 'Computer says \"no.\" Phone says \"yes.\"'\n",
    "print(str_pat.findall(text2))"
   ]
  },
  {
   "cell_type": "markdown",
   "metadata": {},
   "source": [
    "```\n",
    "* 會找最長的\n",
    "需要在*後面加一個?\n",
    "*? 為找搜尋結果的第一個(最開頭有寫)\n",
    "```"
   ]
  },
  {
   "cell_type": "code",
   "execution_count": null,
   "metadata": {},
   "outputs": [],
   "source": [
    "str_pat = re.compile(r'\\\"(.*?)\\\"')\n",
    "str_pat.findall(text2)"
   ]
  },
  {
   "cell_type": "markdown",
   "metadata": {},
   "source": [
    "# 2.8  多行情況下匹配"
   ]
  },
  {
   "cell_type": "code",
   "execution_count": null,
   "metadata": {},
   "outputs": [],
   "source": [
    "# 找 /* */ 內的字\n",
    "\n",
    "comment = re.compile(r'/\\*(.*?)\\*/')\n",
    "text1 = '/* this is a comment */'\n",
    "text2 = '''/* this is a\n",
    "    multiline comment */\n",
    "    '''\n",
    "print(comment.findall(text1))\n",
    "print(comment.findall(text2))"
   ]
  },
  {
   "cell_type": "markdown",
   "metadata": {},
   "source": [
    "(?:.|\\n) 為 找.或\\n"
   ]
  },
  {
   "cell_type": "code",
   "execution_count": null,
   "metadata": {},
   "outputs": [],
   "source": [
    "comment = re.compile(r'/\\*((?:.|\\n)*?)\\*/')\n",
    "comment.findall(text2)"
   ]
  },
  {
   "cell_type": "markdown",
   "metadata": {},
   "source": [
    "```\n",
    "re.compile() 可加入一個標誌參數叫re.DOTALL\n",
    "讓正則表達式中的點(.) 匹配包括換行符在內的任意字符\n",
    "```"
   ]
  },
  {
   "cell_type": "code",
   "execution_count": null,
   "metadata": {},
   "outputs": [],
   "source": [
    "comment = re.compile(r'/\\*(.*?)\\*/', re.DOTALL)\n",
    "comment.findall(text2)"
   ]
  },
  {
   "cell_type": "markdown",
   "metadata": {},
   "source": [
    "# 2.9 2.10 是unicode 先跳"
   ]
  },
  {
   "cell_type": "markdown",
   "metadata": {},
   "source": [
    "# 2.11 刪除字符串中不需要的字符"
   ]
  },
  {
   "cell_type": "markdown",
   "metadata": {},
   "source": [
    "```\n",
    "預設下會刪除空白\n",
    "strip()      刪除開始或結尾的字符\n",
    "lstrip()     從左執行刪除操作\n",
    "rstrip()     從右執行刪除操作\n",
    "```"
   ]
  },
  {
   "cell_type": "code",
   "execution_count": null,
   "metadata": {},
   "outputs": [],
   "source": [
    "s = ' hello world \\n'\n",
    "print(s.strip())\n",
    "print(s.rstrip())\n",
    "s.lstrip()"
   ]
  },
  {
   "cell_type": "code",
   "execution_count": null,
   "metadata": {},
   "outputs": [],
   "source": [
    "t = '-----hello====='\n",
    "print(t.lstrip('-'))\n",
    "print(t.strip('-='))"
   ]
  },
  {
   "cell_type": "markdown",
   "metadata": {},
   "source": [
    "```\n",
    "用strip() 不會 對中間的文本產生影響\n",
    "若要刪除空格 就用replace 或 re.sub()把空格替換掉\n",
    "```"
   ]
  },
  {
   "cell_type": "code",
   "execution_count": null,
   "metadata": {},
   "outputs": [],
   "source": [
    "s = ' hello    world \\n'\n",
    "s.strip()"
   ]
  },
  {
   "cell_type": "markdown",
   "metadata": {},
   "source": [
    "# 2.13 字符串對齊\n",
    "```\n",
    "ljust()   從左對齊\n",
    "rjust()   從右對齊\n",
    "center()  向中間對齊\n",
    "```"
   ]
  },
  {
   "cell_type": "code",
   "execution_count": null,
   "metadata": {},
   "outputs": [],
   "source": [
    "#參數為總長\n",
    "text = 'Hello World'\n",
    "print(text.ljust(20))\n",
    "print(text.rjust(20))\n",
    "print(text.center(20))"
   ]
  },
  {
   "cell_type": "code",
   "execution_count": null,
   "metadata": {},
   "outputs": [],
   "source": [
    "#填充字串\n",
    "text.rjust(20,'=')"
   ]
  },
  {
   "cell_type": "markdown",
   "metadata": {},
   "source": [
    "format() 也可執行一樣的事"
   ]
  },
  {
   "cell_type": "code",
   "execution_count": null,
   "metadata": {},
   "outputs": [],
   "source": [
    "# >為靠右 <靠左 ^靠中間\n",
    "print(format(text, '>20'))\n",
    "print(format(text, '<20'))\n",
    "print(format(text, '^20'))\n",
    "# 位置符號前可加 填充字符\n",
    "print(format(text, '*^20s'))"
   ]
  },
  {
   "cell_type": "markdown",
   "metadata": {},
   "source": [
    "```\n",
    "format()可格式多個\n",
    "也可格式化數值\n",
    "```"
   ]
  },
  {
   "cell_type": "code",
   "execution_count": null,
   "metadata": {},
   "outputs": [],
   "source": [
    "print('{:>10s} {:>10s}'.format('Hello', 'World'))\n",
    "x = 1.2345\n",
    "print(format(x, '>10'))\n",
    "print(format(x, '^10.2f'))"
   ]
  },
  {
   "cell_type": "markdown",
   "metadata": {},
   "source": [
    "```\n",
    "整體而言 \n",
    "format較ljust() rjust() center()優\n",
    "```"
   ]
  },
  {
   "cell_type": "markdown",
   "metadata": {},
   "source": [
    "# 2.14 合併拼接字符串"
   ]
  },
  {
   "cell_type": "code",
   "execution_count": null,
   "metadata": {},
   "outputs": [],
   "source": [
    "parts = ['Is', 'Chicago', 'Not', 'Chicago?']\n",
    "' '.join(parts)"
   ]
  },
  {
   "cell_type": "markdown",
   "metadata": {},
   "source": [
    "# 2.15 字符串中插入變量"
   ]
  },
  {
   "cell_type": "markdown",
   "metadata": {},
   "source": [
    ".format()"
   ]
  },
  {
   "cell_type": "code",
   "execution_count": null,
   "metadata": {},
   "outputs": [],
   "source": [
    "s = '{name} has {n} messages.'\n",
    "s.format(name='Guido', n=37)"
   ]
  },
  {
   "cell_type": "markdown",
   "metadata": {},
   "source": [
    "```\n",
    "變數如果有先定義\n",
    "可用format_map()搭配vars()編輯\n",
    "```"
   ]
  },
  {
   "cell_type": "code",
   "execution_count": null,
   "metadata": {},
   "outputs": [],
   "source": [
    "name = 'Guido'\n",
    "n = 37\n",
    "s.format_map(vars())"
   ]
  },
  {
   "cell_type": "markdown",
   "metadata": {},
   "source": [
    "```\n",
    "當要format多個同型態的值時\n",
    "可自訂函數 搭配vars()\n",
    "```"
   ]
  },
  {
   "cell_type": "code",
   "execution_count": null,
   "metadata": {},
   "outputs": [],
   "source": [
    "class Info:\n",
    "    def __init__(self, name, n):\n",
    "        self.name = name\n",
    "        self.n = n\n",
    "\n",
    "a = Info('Guido',37)\n",
    "s.format_map(vars(a))"
   ]
  },
  {
   "cell_type": "markdown",
   "metadata": {},
   "source": [
    "# 但\n",
    "```\n",
    "format跟format_map 在有missing value 的時候 \n",
    "插入變量會error\n",
    "否則須自訂函數\n",
    "```"
   ]
  },
  {
   "cell_type": "code",
   "execution_count": null,
   "metadata": {},
   "outputs": [],
   "source": [
    "class safesub(dict): #防止key 找不到\n",
    "    def __missing__(self, key):\n",
    "        return '{' + key +  '}' #把missing value 用key名取代"
   ]
  },
  {
   "cell_type": "code",
   "execution_count": null,
   "metadata": {},
   "outputs": [],
   "source": [
    "del n # 把剛定義的n刪掉\n",
    "s.format_map(safesub(vars()))"
   ]
  },
  {
   "cell_type": "markdown",
   "metadata": {},
   "source": [
    "要替換很多次的話就自訂一個替換函數"
   ]
  },
  {
   "cell_type": "code",
   "execution_count": null,
   "metadata": {},
   "outputs": [],
   "source": [
    "import sys\n",
    "def sub(text):\n",
    "    return text.format_map(safesub(sys._getframe(1).f_locals))  #sys._getframe(1).f_locals 把所需的key和value傳回來"
   ]
  },
  {
   "cell_type": "code",
   "execution_count": null,
   "metadata": {},
   "outputs": [],
   "source": [
    "name = 'Guido'\n",
    "n = 37\n",
    "print(sub('Hello {name}'))\n",
    "print(sub('You have {n} messages.'))\n",
    "print(sub('Your favorite color is {color}'))"
   ]
  },
  {
   "cell_type": "markdown",
   "metadata": {},
   "source": [
    "# 2.16 把字符串按指定列寬格式排\n",
    "textwrap.fill()"
   ]
  },
  {
   "cell_type": "code",
   "execution_count": null,
   "metadata": {},
   "outputs": [],
   "source": [
    "s = \"Look into my eyes, look into my eyes, the eyes, the eyes, \\\n",
    "the eyes, not around the eyes, don't look around the eyes, \\\n",
    "look into my eyes, you're under.\"\n",
    "import textwrap\n",
    "print(textwrap.fill(s, 70)) #參數為一列字元數\n",
    "print(textwrap.fill(s, 40, initial_indent='    '))   #第一列首字留空\n",
    "print(' ')\n",
    "print(textwrap.fill(s, 40, subsequent_indent=' '))   #第一列以外首字留空"
   ]
  },
  {
   "cell_type": "markdown",
   "metadata": {},
   "source": [
    "# 2.17 跟編碼有關先跳個"
   ]
  },
  {
   "cell_type": "markdown",
   "metadata": {},
   "source": [
    "# 2.18解析字符串 逐項歸類(令牌化)"
   ]
  },
  {
   "cell_type": "code",
   "execution_count": null,
   "metadata": {},
   "outputs": [],
   "source": [
    "text = 'foo = 23 + 42 * 10'\n",
    "tokens = [('NAME', 'foo'), ('EQ','='), ('NUM', '23'), ('PLUS','+'),('NUM', '42'), ('TIMES', '*'), ('NUM', 10)]\n",
    "import re\n",
    "NAME = r'(?P<NAME>[a-zA-Z_][a-zA-Z_0-9]*)'\n",
    "NUM = r'(?P<NUM>\\d+)'\n",
    "PLUS = r'(?P<PLUS>\\+)'\n",
    "TIMES = r'(?P<TIMES>\\*)'\n",
    "EQ = r'(?P<EQ>=)'\n",
    "WS = r'(?P<WS>\\s+)'\n",
    "master_pat = re.compile('|'.join([NAME, NUM, PLUS, TIMES, EQ, WS]))"
   ]
  },
  {
   "cell_type": "code",
   "execution_count": null,
   "metadata": {},
   "outputs": [],
   "source": [
    "scanner = master_pat.scanner('foo = 42')\n",
    "scanner.match()"
   ]
  },
  {
   "cell_type": "code",
   "execution_count": null,
   "metadata": {},
   "outputs": [],
   "source": [
    "print(_.lastgroup, _.group())"
   ]
  },
  {
   "cell_type": "code",
   "execution_count": null,
   "metadata": {},
   "outputs": [],
   "source": [
    "scanner.match()"
   ]
  },
  {
   "cell_type": "code",
   "execution_count": null,
   "metadata": {},
   "outputs": [],
   "source": [
    "print(_.lastgroup, _.group())"
   ]
  },
  {
   "cell_type": "markdown",
   "metadata": {},
   "source": [
    "定個函數較方便"
   ]
  },
  {
   "cell_type": "code",
   "execution_count": null,
   "metadata": {},
   "outputs": [],
   "source": [
    "from collections import namedtuple\n",
    "scanner = master_pat.scanner('foo = 42')\n",
    "def generate_tokens(pat, text):\n",
    "    Token = namedtuple('Token', ['type', 'value'])\n",
    "    scanner = pat.scanner(text)\n",
    "    for m in iter(scanner.match, None):\n",
    "        yield Token(m.lastgroup, m.group())\n",
    "for tok in generate_tokens(master_pat, 'foo = 42'):\n",
    "    print(tok)"
   ]
  },
  {
   "cell_type": "markdown",
   "metadata": {},
   "source": [
    "# 2.19 太難ㄌ看不懂"
   ]
  },
  {
   "cell_type": "markdown",
   "metadata": {},
   "source": [
    "# 2.20 字節字符串上的字符串文本操作\n",
    "```\n",
    "ex:移除 搜索 替換\n",
    "操作上跟一般字符串差不多\n",
    "```"
   ]
  },
  {
   "cell_type": "code",
   "execution_count": null,
   "metadata": {},
   "outputs": [],
   "source": [
    "data = b'Hello World'\n",
    "print(data[0:5])\n",
    "print(data.startswith(b'Hello'))\n",
    "data = bytearray(b'Hello World')\n",
    "print(data[0:5])\n",
    "print(data.startswith(b'Hello'))\n",
    "print(data.split())\n",
    "print(data.replace(b'Hello', b'Hello Cruel'))"
   ]
  },
  {
   "cell_type": "markdown",
   "metadata": {},
   "source": [
    "記得加字節符  不然會error"
   ]
  },
  {
   "cell_type": "code",
   "execution_count": null,
   "metadata": {},
   "outputs": [],
   "source": [
    "data = b'FOO:BAR,SPAM'\n",
    "import re\n",
    "re.split('[:,]',data)"
   ]
  },
  {
   "cell_type": "code",
   "execution_count": null,
   "metadata": {},
   "outputs": [],
   "source": [
    "re.split(b'[:,]',data) "
   ]
  },
  {
   "cell_type": "markdown",
   "metadata": {},
   "source": [
    "只搜索一次時 字節會返回數字"
   ]
  },
  {
   "cell_type": "code",
   "execution_count": null,
   "metadata": {},
   "outputs": [],
   "source": [
    "a = 'Hello World'\n",
    "b = b'Hello World'\n",
    "print('a[0] is',a[0])\n",
    "print('b[0] is',b[0])"
   ]
  },
  {
   "cell_type": "markdown",
   "metadata": {},
   "source": [
    "要純print字串的話要先解碼"
   ]
  },
  {
   "cell_type": "code",
   "execution_count": null,
   "metadata": {},
   "outputs": [],
   "source": [
    "print(b)\n",
    "print(b.decode('ascii'))\n"
   ]
  },
  {
   "cell_type": "markdown",
   "metadata": {},
   "source": [
    "格式化也是"
   ]
  },
  {
   "cell_type": "code",
   "execution_count": null,
   "metadata": {},
   "outputs": [],
   "source": [
    "'{:10s} {:10d} {:10.2f}'.format('ACME', 100, 490.1).encode('ascii')"
   ]
  }
 ],
 "metadata": {
  "kernelspec": {
   "display_name": "Python 3",
   "language": "python",
   "name": "python3"
  },
  "language_info": {
   "codemirror_mode": {
    "name": "ipython",
    "version": 3
   },
   "file_extension": ".py",
   "mimetype": "text/x-python",
   "name": "python",
   "nbconvert_exporter": "python",
   "pygments_lexer": "ipython3",
   "version": "3.6.5"
  }
 },
 "nbformat": 4,
 "nbformat_minor": 2
}
