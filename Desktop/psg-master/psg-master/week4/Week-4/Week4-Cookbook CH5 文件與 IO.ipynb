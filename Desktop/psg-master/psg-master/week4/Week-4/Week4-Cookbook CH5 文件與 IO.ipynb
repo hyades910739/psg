{
 "cells": [
  {
   "cell_type": "markdown",
   "metadata": {},
   "source": [
    "# 第五章：文件與 IO"
   ]
  },
  {
   "cell_type": "markdown",
   "metadata": {},
   "source": [
    "#### 所有程序都要處理輸入和輸出。這一章將涵蓋處理不同類型的文件，包括文本和二 進制文件，文件編碼和其他相關的內容。對文件名和目錄的操作也會涉及到。 有時候會需要讀寫不同編碼的文件，如ASCII，UTF-8 或 UTF-16 編碼等。"
   ]
  },
  {
   "cell_type": "markdown",
   "metadata": {},
   "source": [
    "## 7.1.2 解決方案\n",
    "#### 使用帶有 rt 模式的 open() 函數讀取文本文件。如下所示： "
   ]
  },
  {
   "cell_type": "code",
   "execution_count": null,
   "metadata": {},
   "outputs": [],
   "source": [
    "# Read the entire file as a single string \n",
    "with open('somefile.txt', 'rt') as f:\n",
    "     data = f.read()\n",
    "# Iterate over the lines of the file \n",
    "with open('somefile.txt', 'rt') as f:\n",
    "    for line in f: # process line ..."
   ]
  },
  {
   "cell_type": "code",
   "execution_count": 11,
   "metadata": {},
   "outputs": [
    {
     "data": {
      "text/plain": [
       "'1. 國泰\\n2. Python Ch7\\n3. TensorFlow 線上教學\\n4. 老師paper (選三個資料，用不同dist. function來做分群/ Entropy???)\\nhttp://magazine.amstat.org/blog/2016/01/01/data-science-the-evolution-or-the-extinction-of-statistics/\\nhttp://magazine.amstat.org/blog/2015/11/01/statnews2015/\\n\\n\\n'"
      ]
     },
     "execution_count": 11,
     "metadata": {},
     "output_type": "execute_result"
    }
   ],
   "source": [
    "with open('ToDoLIST.txt', 'rt') as f:\n",
    "    data = f.read()\n",
    "data"
   ]
  },
  {
   "cell_type": "markdown",
   "metadata": {},
   "source": [
    "#### 類似的，爲了寫入一個文本文件，使用帶有 wt 模式的 open() 函數，如果之前文 件內容存在則清除並覆蓋掉。如下所示： "
   ]
  },
  {
   "cell_type": "code",
   "execution_count": null,
   "metadata": {},
   "outputs": [],
   "source": [
    "# Write chunks of text data \n",
    "with open('somefile.txt', 'wt') as f: \n",
    "    f.write(text1) \n",
    "    f.write(text2) ...\n",
    "# Redirected print statement"
   ]
  },
  {
   "cell_type": "code",
   "execution_count": null,
   "metadata": {},
   "outputs": [],
   "source": [
    "with open('somefile.txt', 'wt') as f: \n",
    "    print(line1, file=f) \n",
    "    print(line2, file=f) ... "
   ]
  },
  {
   "cell_type": "markdown",
   "metadata": {},
   "source": [
    "#### 文件的讀寫操作默認使用系統編碼，可以通過 sys.getdefaultencoding() 來得到。在大多數機器上面都是 utf-8 編碼。如果你已經知道你要讀寫的文本是其他編碼 方式，那麼可以通過傳遞一個可選的 encoding 參數給 open() 函數。如下所示： "
   ]
  },
  {
   "cell_type": "code",
   "execution_count": 3,
   "metadata": {},
   "outputs": [
    {
     "data": {
      "text/plain": [
       "'utf-8'"
      ]
     },
     "execution_count": 3,
     "metadata": {},
     "output_type": "execute_result"
    }
   ],
   "source": [
    "import sys\n",
    "sys.getdefaultencoding()"
   ]
  },
  {
   "cell_type": "code",
   "execution_count": null,
   "metadata": {},
   "outputs": [],
   "source": [
    "with open('somefile.txt', 'rt', encoding='latin-1') as f:\n",
    "    ... "
   ]
  },
  {
   "cell_type": "markdown",
   "metadata": {},
   "source": [
    "#### Python 支持非常多的文本編碼。幾個常見的編碼是 ascii, latin-1, utf-8 和 utf-16。 在 web 應用程序中通常都使用的是 UTF-8。當讀取一個未知編碼的文本時使用 latin-1 編碼永遠不會產生解碼錯誤。使用 latin-1 編碼讀取一個文件的時候也許不能產生完全正確的文本解碼數據，但是它也能從中提取出足夠多的有用數據。\n"
   ]
  },
  {
   "cell_type": "markdown",
   "metadata": {},
   "source": [
    "## 7.1.3 討論\n",
    "#### 讀寫文本文件一般來講是比較簡單的。但是也幾點是需要注意的。首先，在例子程 序中的 with 語句給被使用到的文件創建了一個上下文環境，但 with 控制塊結束時， 文件會自動關閉。你也可以不使用 with 語句，但是這時候你就必須記得手動關閉文件："
   ]
  },
  {
   "cell_type": "code",
   "execution_count": null,
   "metadata": {},
   "outputs": [],
   "source": [
    "f = open('somefile.txt', 'rt') \n",
    "data = f.read() \n",
    "f.close()"
   ]
  },
  {
   "cell_type": "markdown",
   "metadata": {},
   "source": [
    "#### 最後一個問題就是文本文件中可能出現的編碼錯誤。但你讀取或者寫入一個文本文 件時，你可能會遇到一個編碼或者解碼錯誤。比如："
   ]
  },
  {
   "cell_type": "markdown",
   "metadata": {},
   "source": [
    "![hi](img-1.png)"
   ]
  },
  {
   "cell_type": "markdown",
   "metadata": {},
   "source": [
    "#### 這個時候，你可以給 open() 函數傳遞一個可選的 errors 參數來處理這 些錯誤。下面是一些處理常見錯誤的方法："
   ]
  },
  {
   "cell_type": "markdown",
   "metadata": {},
   "source": [
    "![hi](img-2.png)"
   ]
  },
  {
   "cell_type": "markdown",
   "metadata": {},
   "source": [
    "## 7.2 打印輸出至文件中\n",
    "\n",
    "#### 你想將 print() 函數的輸出重定向到一個文件中去。\n",
    "#### 在 print() 函數中指定 file 關鍵字參數，像下面這樣(必須是.txt，如果是.bin會出現錯誤)：\n",
    "\n"
   ]
  },
  {
   "cell_type": "code",
   "execution_count": 2,
   "metadata": {},
   "outputs": [],
   "source": [
    "with open('hello.txt', 'wt') as f:\n",
    "    print(\"let's get it\", file=f)"
   ]
  },
  {
   "cell_type": "markdown",
   "metadata": {},
   "source": [
    "## 7.3 使用其他分隔符或行終止符打印\n",
    "#### 你想使用 print() 函數輸出數據，但是想改變默認的分隔符或者行尾符。\n",
    "#### 可以使用在 print() 函數中使用 sep 和 end 關鍵字參數，以你想要的方式輸出。 比如： "
   ]
  },
  {
   "cell_type": "code",
   "execution_count": 3,
   "metadata": {},
   "outputs": [
    {
     "name": "stdout",
     "output_type": "stream",
     "text": [
      "ACME 50 91.5\n",
      "ACME,50,91.5\n",
      "ACME,50,91.5!!\n"
     ]
    }
   ],
   "source": [
    "print('ACME', 50, 91.5) \n",
    "print('ACME', 50, 91.5, sep=',') \n",
    "print('ACME', 50, 91.5, sep=',', end='!!\\n') "
   ]
  },
  {
   "cell_type": "markdown",
   "metadata": {},
   "source": [
    "#### 使用 end 參數也可以在輸出中禁止換行。比如： "
   ]
  },
  {
   "cell_type": "code",
   "execution_count": 11,
   "metadata": {},
   "outputs": [
    {
     "name": "stdout",
     "output_type": "stream",
     "text": [
      "0\n",
      "1\n",
      "2\n",
      "3\n",
      "4\n"
     ]
    }
   ],
   "source": [
    "for i in range(5): \n",
    "    print(i) "
   ]
  },
  {
   "cell_type": "code",
   "execution_count": 10,
   "metadata": {},
   "outputs": [
    {
     "name": "stdout",
     "output_type": "stream",
     "text": [
      "0 1 2 3 4 "
     ]
    }
   ],
   "source": [
    "for i in range(5):\n",
    "    print(i, end=' ') "
   ]
  },
  {
   "cell_type": "markdown",
   "metadata": {},
   "source": [
    "#### 當你想使用非空格分隔符來輸出數據的時候，給 print() 函數傳遞一個 sep 參數 是最簡單的方案。內容必須是string，如果是數字必須先經過轉換。 比如： "
   ]
  },
  {
   "cell_type": "code",
   "execution_count": 12,
   "metadata": {},
   "outputs": [
    {
     "name": "stdout",
     "output_type": "stream",
     "text": [
      "ACME,50,91.5\n"
     ]
    }
   ],
   "source": [
    "print(','.join(('ACME','50','91.5'))) "
   ]
  },
  {
   "cell_type": "code",
   "execution_count": 16,
   "metadata": {},
   "outputs": [
    {
     "ename": "TypeError",
     "evalue": "sequence item 1: expected str instance, int found",
     "output_type": "error",
     "traceback": [
      "\u001b[1;31m---------------------------------------------------------------------------\u001b[0m",
      "\u001b[1;31mTypeError\u001b[0m                                 Traceback (most recent call last)",
      "\u001b[1;32m<ipython-input-16-49b08d52369a>\u001b[0m in \u001b[0;36m<module>\u001b[1;34m\u001b[0m\n\u001b[0;32m      1\u001b[0m \u001b[1;31m# 僅有字串才能使用此種方式\u001b[0m\u001b[1;33m\u001b[0m\u001b[1;33m\u001b[0m\u001b[0m\n\u001b[0;32m      2\u001b[0m \u001b[0mrow\u001b[0m \u001b[1;33m=\u001b[0m \u001b[1;33m(\u001b[0m\u001b[1;34m'ACME'\u001b[0m\u001b[1;33m,\u001b[0m \u001b[1;36m50\u001b[0m\u001b[1;33m,\u001b[0m \u001b[1;36m91.5\u001b[0m\u001b[1;33m)\u001b[0m\u001b[1;33m\u001b[0m\u001b[0m\n\u001b[1;32m----> 3\u001b[1;33m \u001b[0mprint\u001b[0m\u001b[1;33m(\u001b[0m\u001b[1;34m','\u001b[0m\u001b[1;33m.\u001b[0m\u001b[0mjoin\u001b[0m\u001b[1;33m(\u001b[0m\u001b[0mrow\u001b[0m\u001b[1;33m)\u001b[0m\u001b[1;33m)\u001b[0m\u001b[1;33m\u001b[0m\u001b[0m\n\u001b[0m",
      "\u001b[1;31mTypeError\u001b[0m: sequence item 1: expected str instance, int found"
     ]
    }
   ],
   "source": [
    "# 僅有字串才能使用此種方式\n",
    "row = ('ACME', 50, 91.5) \n",
    "print(','.join(row)) "
   ]
  },
  {
   "cell_type": "code",
   "execution_count": 14,
   "metadata": {},
   "outputs": [
    {
     "name": "stdout",
     "output_type": "stream",
     "text": [
      "ACME,50,91.5\n"
     ]
    }
   ],
   "source": [
    "print(','.join(str(x) for x in row)) "
   ]
  },
  {
   "cell_type": "code",
   "execution_count": 15,
   "metadata": {},
   "outputs": [
    {
     "name": "stdout",
     "output_type": "stream",
     "text": [
      "ACME,50,91.5\n"
     ]
    }
   ],
   "source": [
    "print(*row, sep=',') "
   ]
  },
  {
   "cell_type": "markdown",
   "metadata": {},
   "source": [
    "## 7.4 讀寫字節數據\n",
    "#### 此章節介紹讀寫二進制文件(.bin，燒燒錄軟體的影像檔)，這部分跳過"
   ]
  },
  {
   "cell_type": "markdown",
   "metadata": {},
   "source": [
    "## 7.5 文件不存在才能寫入\n",
    "#### 你想將一個文件中寫入數據，前提必須是這個文件在文件系統上不存在。也就是不允許覆蓋已存在的文件內容。\n"
   ]
  },
  {
   "cell_type": "markdown",
   "metadata": {},
   "source": [
    "#### 可以在 open() 函數中使用 x 模式來代替 w 模式的方法來解決這個問題。比如： "
   ]
  },
  {
   "cell_type": "code",
   "execution_count": 45,
   "metadata": {},
   "outputs": [],
   "source": [
    "with open('somefile', 'wt') as f:\n",
    "    f.write('Hello\\n') "
   ]
  },
  {
   "cell_type": "markdown",
   "metadata": {},
   "source": [
    "![HI](img-3.png)"
   ]
  },
  {
   "cell_type": "code",
   "execution_count": 46,
   "metadata": {},
   "outputs": [],
   "source": [
    "# 照cookbook講的，'xt'應該要可以蓋過之前的檔案，但好像不行，反而'wt'可以蓋掉上一個檔案\n",
    "with open('somefile', 'wt') as f: \n",
    "     f.write('HelloHIHIHI\\n') "
   ]
  },
  {
   "cell_type": "code",
   "execution_count": 47,
   "metadata": {},
   "outputs": [
    {
     "ename": "FileExistsError",
     "evalue": "[Errno 17] File exists: 'somefile'",
     "output_type": "error",
     "traceback": [
      "\u001b[1;31m---------------------------------------------------------------------------\u001b[0m",
      "\u001b[1;31mFileExistsError\u001b[0m                           Traceback (most recent call last)",
      "\u001b[1;32m<ipython-input-47-b3e5e05669c9>\u001b[0m in \u001b[0;36m<module>\u001b[1;34m\u001b[0m\n\u001b[1;32m----> 1\u001b[1;33m \u001b[1;32mwith\u001b[0m \u001b[0mopen\u001b[0m\u001b[1;33m(\u001b[0m\u001b[1;34m'somefile'\u001b[0m\u001b[1;33m,\u001b[0m \u001b[1;34m'xt'\u001b[0m\u001b[1;33m)\u001b[0m \u001b[1;32mas\u001b[0m \u001b[0mf\u001b[0m\u001b[1;33m:\u001b[0m\u001b[1;33m\u001b[0m\u001b[0m\n\u001b[0m\u001b[0;32m      2\u001b[0m      \u001b[0mf\u001b[0m\u001b[1;33m.\u001b[0m\u001b[0mwrite\u001b[0m\u001b[1;33m(\u001b[0m\u001b[1;34m'HelloOOOOOO\\n'\u001b[0m\u001b[1;33m)\u001b[0m\u001b[1;33m\u001b[0m\u001b[0m\n",
      "\u001b[1;31mFileExistsError\u001b[0m: [Errno 17] File exists: 'somefile'"
     ]
    }
   ],
   "source": [
    "# 'xt'無法蓋過之前的檔案\n",
    "with open('somefile', 'xt') as f: \n",
    "     f.write('HelloOOOOOO\\n') "
   ]
  },
  {
   "cell_type": "markdown",
   "metadata": {},
   "source": [
    "#### 解決方案，是先測試這個文件是否存在，像下面這樣： "
   ]
  },
  {
   "cell_type": "code",
   "execution_count": 48,
   "metadata": {},
   "outputs": [
    {
     "name": "stdout",
     "output_type": "stream",
     "text": [
      "File already exists!\n"
     ]
    }
   ],
   "source": [
    "import os \n",
    "if not os.path.exists('somefile'): \n",
    "    with open('somefile', 'wt') as f: \n",
    "        f.write('Hello\\n')\n",
    "else: \n",
    "     print('File already exists!') "
   ]
  },
  {
   "cell_type": "markdown",
   "metadata": {},
   "source": [
    "## 7.6 字符串的 I/O 操作\n",
    "#### 你想使用操作類文件對象的程序來操作.txt或.bin字符串。\n",
    "#### 使用 io.StringIO() 和 io.BytesIO() 類來創建類文件對象操作字符串數據。比如： \n"
   ]
  },
  {
   "cell_type": "code",
   "execution_count": 62,
   "metadata": {},
   "outputs": [
    {
     "data": {
      "text/plain": [
       "9"
      ]
     },
     "execution_count": 62,
     "metadata": {},
     "output_type": "execute_result"
    }
   ],
   "source": [
    "import io\n",
    "s = io.StringIO() \n",
    "s.write('123456789') "
   ]
  },
  {
   "cell_type": "code",
   "execution_count": 63,
   "metadata": {},
   "outputs": [],
   "source": [
    "print('1234', file=s) "
   ]
  },
  {
   "cell_type": "code",
   "execution_count": 66,
   "metadata": {},
   "outputs": [
    {
     "data": {
      "text/plain": [
       "'1234567891234\\n'"
      ]
     },
     "execution_count": 66,
     "metadata": {},
     "output_type": "execute_result"
    }
   ],
   "source": [
    "# Get all of the data written so far \n",
    "s.getvalue()"
   ]
  },
  {
   "cell_type": "code",
   "execution_count": 70,
   "metadata": {},
   "outputs": [
    {
     "data": {
      "text/plain": [
       "'Hel'"
      ]
     },
     "execution_count": 70,
     "metadata": {},
     "output_type": "execute_result"
    }
   ],
   "source": [
    "# Wrap a file interface around an existing string\n",
    "s = io.StringIO('Hello\\nWorld\\n') \n",
    "s.read(3) "
   ]
  },
  {
   "cell_type": "code",
   "execution_count": 71,
   "metadata": {},
   "outputs": [
    {
     "data": {
      "text/plain": [
       "'lo\\nWorld\\n'"
      ]
     },
     "execution_count": 71,
     "metadata": {},
     "output_type": "execute_result"
    }
   ],
   "source": [
    "s.read() "
   ]
  },
  {
   "cell_type": "markdown",
   "metadata": {},
   "source": [
    "## 7.7 讀寫壓縮文件\n",
    "#### 你想讀寫一個 gzip(wiki:Gzip是若干種檔案壓縮程式的簡稱，通常指GNU計劃的實現) 或 bz2(baidu:bzip2是Julian Seward开发并按照自由软件/开源软件协议发布的数据压缩算法及程序。) 格式的壓縮文件。\n",
    "\n"
   ]
  },
  {
   "cell_type": "markdown",
   "metadata": {},
   "source": [
    "#### 跳過"
   ]
  },
  {
   "cell_type": "markdown",
   "metadata": {},
   "source": [
    "## 7.11  文件路徑名的操作\n",
    "#### 你需要使用路徑名來獲取文件名，目錄名，絕對路徑等等。\n",
    "#### 使用 os.path 模塊中的函數來操作路徑名。下面是一個交互式例子來演示一些關鍵的特性： "
   ]
  },
  {
   "cell_type": "code",
   "execution_count": 83,
   "metadata": {},
   "outputs": [],
   "source": [
    "import os\n",
    "path = 'C:/Users/nohah/Desktop/ToDoLIST'"
   ]
  },
  {
   "cell_type": "code",
   "execution_count": 84,
   "metadata": {},
   "outputs": [
    {
     "data": {
      "text/plain": [
       "'ToDoLIST'"
      ]
     },
     "execution_count": 84,
     "metadata": {},
     "output_type": "execute_result"
    }
   ],
   "source": [
    "# Get the last component of the path \n",
    "os.path.basename(path)"
   ]
  },
  {
   "cell_type": "code",
   "execution_count": 85,
   "metadata": {},
   "outputs": [
    {
     "data": {
      "text/plain": [
       "'C:/Users/nohah/Desktop'"
      ]
     },
     "execution_count": 85,
     "metadata": {},
     "output_type": "execute_result"
    }
   ],
   "source": [
    "# Get the directory name \n",
    " os.path.dirname(path) "
   ]
  },
  {
   "cell_type": "code",
   "execution_count": 86,
   "metadata": {},
   "outputs": [
    {
     "data": {
      "text/plain": [
       "'tmp\\\\data\\\\ToDoLIST'"
      ]
     },
     "execution_count": 86,
     "metadata": {},
     "output_type": "execute_result"
    }
   ],
   "source": [
    "# Join path components together \n",
    "os.path.join('tmp', 'data', os.path.basename(path)) "
   ]
  },
  {
   "cell_type": "code",
   "execution_count": 95,
   "metadata": {},
   "outputs": [
    {
     "data": {
      "text/plain": [
       "'C:\\\\Users\\\\nohah\\\\Data\\\\data.csv'"
      ]
     },
     "execution_count": 95,
     "metadata": {},
     "output_type": "execute_result"
    }
   ],
   "source": [
    "# Expand the user's home directory \n",
    "path = '~\\Data\\data.csv' \n",
    "os.path.expanduser(path) "
   ]
  },
  {
   "cell_type": "code",
   "execution_count": 96,
   "metadata": {},
   "outputs": [
    {
     "data": {
      "text/plain": [
       "('~\\\\Data\\\\data', '.csv')"
      ]
     },
     "execution_count": 96,
     "metadata": {},
     "output_type": "execute_result"
    }
   ],
   "source": [
    "# Split the file extension \n",
    "os.path.splitext(path) "
   ]
  },
  {
   "cell_type": "markdown",
   "metadata": {},
   "source": [
    "## 7.12 測試文件是否存在\n",
    "\n",
    "### 關於os.path官方說明\n",
    "[https://docs.python.org/3.7/library/os.path.html](https://docs.python.org/3.7/library/os.path.html)"
   ]
  },
  {
   "cell_type": "markdown",
   "metadata": {},
   "source": [
    "#### 使用 os.path 模塊來測試一個文件或目錄是否存在。比如： "
   ]
  },
  {
   "cell_type": "code",
   "execution_count": 3,
   "metadata": {},
   "outputs": [
    {
     "data": {
      "text/plain": [
       "True"
      ]
     },
     "execution_count": 3,
     "metadata": {},
     "output_type": "execute_result"
    }
   ],
   "source": [
    "# 測試路徑是否存在\n",
    "import os \n",
    "os.path.exists('C:/Users/nohah/Desktop') "
   ]
  },
  {
   "cell_type": "code",
   "execution_count": 4,
   "metadata": {},
   "outputs": [
    {
     "data": {
      "text/plain": [
       "False"
      ]
     },
     "execution_count": 4,
     "metadata": {},
     "output_type": "execute_result"
    }
   ],
   "source": [
    "os.path.exists('/tmp/spam')"
   ]
  },
  {
   "cell_type": "code",
   "execution_count": 24,
   "metadata": {},
   "outputs": [
    {
     "data": {
      "text/plain": [
       "True"
      ]
     },
     "execution_count": 24,
     "metadata": {},
     "output_type": "execute_result"
    }
   ],
   "source": [
    "# Is a regular file 測試檔案是否存在\n",
    "os.path.isfile('C:/Users/nohah/Desktop/ToDoLIST.txt') "
   ]
  },
  {
   "cell_type": "code",
   "execution_count": 28,
   "metadata": {},
   "outputs": [
    {
     "data": {
      "text/plain": [
       "True"
      ]
     },
     "execution_count": 28,
     "metadata": {},
     "output_type": "execute_result"
    }
   ],
   "source": [
    "# Is a directory \n",
    "os.path.isdir('C:/Users/nohah/Desktop') "
   ]
  },
  {
   "cell_type": "code",
   "execution_count": 31,
   "metadata": {},
   "outputs": [
    {
     "data": {
      "text/plain": [
       "False"
      ]
     },
     "execution_count": 31,
     "metadata": {},
     "output_type": "execute_result"
    }
   ],
   "source": [
    "# Is a symbolic link \n",
    "os.path.islink('Users/nohah') "
   ]
  },
  {
   "cell_type": "markdown",
   "metadata": {},
   "source": [
    "![HI](img-4.png)"
   ]
  },
  {
   "cell_type": "code",
   "execution_count": 35,
   "metadata": {},
   "outputs": [
    {
     "data": {
      "text/plain": [
       "'C:\\\\Users\\\\nohah\\\\Desktop'"
      ]
     },
     "execution_count": 35,
     "metadata": {},
     "output_type": "execute_result"
    }
   ],
   "source": [
    "# Get the file linked to\n",
    "os.path.realpath('C:/Users/nohah/Desktop') "
   ]
  },
  {
   "cell_type": "markdown",
   "metadata": {},
   "source": [
    "#### 如果你還想獲取元數據 (比如文件大小或者是修改日期)，也可以使用 os.path 模塊來解決： "
   ]
  },
  {
   "cell_type": "code",
   "execution_count": 45,
   "metadata": {},
   "outputs": [
    {
     "data": {
      "text/plain": [
       "8192"
      ]
     },
     "execution_count": 45,
     "metadata": {},
     "output_type": "execute_result"
    }
   ],
   "source": [
    "os.path.getsize('C:/Users/nohah/Desktop/Sessions') "
   ]
  },
  {
   "cell_type": "code",
   "execution_count": 46,
   "metadata": {},
   "outputs": [
    {
     "data": {
      "text/plain": [
       "1533981203.938726"
      ]
     },
     "execution_count": 46,
     "metadata": {},
     "output_type": "execute_result"
    }
   ],
   "source": [
    "os.path.getmtime('C:/Users/nohah/Desktop/Sessions') "
   ]
  },
  {
   "cell_type": "code",
   "execution_count": 47,
   "metadata": {},
   "outputs": [
    {
     "data": {
      "text/plain": [
       "'Sat Aug 11 17:53:23 2018'"
      ]
     },
     "execution_count": 47,
     "metadata": {},
     "output_type": "execute_result"
    }
   ],
   "source": [
    "# Return the time of last modification of path\n",
    "import time \n",
    "time.ctime(os.path.getmtime('C:/Users/nohah/Desktop/Sessions')) "
   ]
  },
  {
   "cell_type": "markdown",
   "metadata": {},
   "source": [
    "## 7.13 獲取文件夾中的文件列表\n"
   ]
  },
  {
   "cell_type": "markdown",
   "metadata": {},
   "source": [
    "#### 你想獲取文件系統中某個目錄下的所有文件列表\n",
    "#### 使用 os.listdir() 函數來獲取某個directory中的列表，結果會回傳directory下所有的dir, files等等： "
   ]
  },
  {
   "cell_type": "code",
   "execution_count": 84,
   "metadata": {},
   "outputs": [
    {
     "data": {
      "text/plain": [
       "['Cathy2018',\n",
       " 'Consult1071assg1.docx',\n",
       " 'desktop.ini',\n",
       " 'hello.txt',\n",
       " 'img-1.png',\n",
       " 'img-2.png',\n",
       " 'img-3.png',\n",
       " 'img-4.png',\n",
       " 'music',\n",
       " 'others',\n",
       " 'PythonCookbook第三版繁體中文v2.0.0.pdf',\n",
       " 'Sessions',\n",
       " 'Spotify.lnk',\n",
       " 'ToDoLIST.txt',\n",
       " '進度',\n",
       " '選課']"
      ]
     },
     "execution_count": 84,
     "metadata": {},
     "output_type": "execute_result"
    }
   ],
   "source": [
    "import os \n",
    "names = os.listdir('C:/Users/nohah/Desktop') \n",
    "names"
   ]
  },
  {
   "cell_type": "markdown",
   "metadata": {},
   "source": [
    "#### 如果你只想顯示files而不顯示directory，可以考慮結合 os.path中的一些函數來使用。 比如："
   ]
  },
  {
   "cell_type": "code",
   "execution_count": 89,
   "metadata": {},
   "outputs": [
    {
     "data": {
      "text/plain": [
       "['Consult1071assg1.docx',\n",
       " 'desktop.ini',\n",
       " 'hello.txt',\n",
       " 'img-1.png',\n",
       " 'img-2.png',\n",
       " 'img-3.png',\n",
       " 'img-4.png',\n",
       " 'PythonCookbook第三版繁體中文v2.0.0.pdf',\n",
       " 'Spotify.lnk',\n",
       " 'ToDoLIST.txt']"
      ]
     },
     "execution_count": 89,
     "metadata": {},
     "output_type": "execute_result"
    }
   ],
   "source": [
    "# Get all regular files \n",
    "names = [name for name in os.listdir('C:/Users/nohah/Desktop') \n",
    "         if os.path.isfile(os.path.join('C:/Users/nohah/Desktop', name))]\n",
    "names"
   ]
  },
  {
   "cell_type": "markdown",
   "metadata": {},
   "source": [
    "#### 只顯示directory而不顯示files"
   ]
  },
  {
   "cell_type": "code",
   "execution_count": 90,
   "metadata": {},
   "outputs": [
    {
     "data": {
      "text/plain": [
       "['Cathy2018', 'music', 'others', 'Sessions', '進度', '選課']"
      ]
     },
     "execution_count": 90,
     "metadata": {},
     "output_type": "execute_result"
    }
   ],
   "source": [
    "# Get all dirs 取得所有directory名稱\n",
    "dirnames = [name for name in os.listdir('C:/Users/nohah/Desktop') \n",
    "            if os.path.isdir(os.path.join('C:/Users/nohah/Desktop', name))]\n",
    "dirnames"
   ]
  },
  {
   "cell_type": "markdown",
   "metadata": {},
   "source": [
    "#### 利用字串過濾，只取得特定檔案(如.png)"
   ]
  },
  {
   "cell_type": "code",
   "execution_count": 91,
   "metadata": {},
   "outputs": [
    {
     "data": {
      "text/plain": [
       "['img-1.png', 'img-2.png', 'img-3.png', 'img-4.png']"
      ]
     },
     "execution_count": 91,
     "metadata": {},
     "output_type": "execute_result"
    }
   ],
   "source": [
    "pngfiles = [name for name in os.listdir('C:/Users/nohah/Desktop') \n",
    "            if name.endswith('.png')]\n",
    "pngfiles"
   ]
  },
  {
   "cell_type": "markdown",
   "metadata": {},
   "source": [
    "#### 想要特定檔案，你可能會考慮使用 glob 或 fnmatch 模塊。比如： "
   ]
  },
  {
   "cell_type": "code",
   "execution_count": 97,
   "metadata": {},
   "outputs": [
    {
     "data": {
      "text/plain": [
       "['C:/Users/nohah/tensorflow機器學習\\\\ch-01_TensorFlow_101.ipynb',\n",
       " 'C:/Users/nohah/tensorflow機器學習\\\\ch-02_TF_High_Level_Libraries.ipynb',\n",
       " 'C:/Users/nohah/tensorflow機器學習\\\\code.ipynb']"
      ]
     },
     "execution_count": 97,
     "metadata": {},
     "output_type": "execute_result"
    }
   ],
   "source": [
    "import glob \n",
    "pyfiles = glob.glob('C:/Users/nohah/tensorflow機器學習/*.ipynb')\n",
    "pyfiles"
   ]
  },
  {
   "cell_type": "code",
   "execution_count": 98,
   "metadata": {},
   "outputs": [
    {
     "data": {
      "text/plain": [
       "['ch-01_TensorFlow_101.ipynb',\n",
       " 'ch-02_TF_High_Level_Libraries.ipynb',\n",
       " 'code.ipynb']"
      ]
     },
     "execution_count": 98,
     "metadata": {},
     "output_type": "execute_result"
    }
   ],
   "source": [
    "from fnmatch import fnmatch \n",
    "pyfiles2 = [name for name in os.listdir('C:/Users/nohah/tensorflow機器學習') if fnmatch(name, '*.ipynb')]\n",
    "pyfiles2"
   ]
  }
 ],
 "metadata": {
  "kernelspec": {
   "display_name": "Python 3",
   "language": "python",
   "name": "python3"
  },
  "language_info": {
   "codemirror_mode": {
    "name": "ipython",
    "version": 3
   },
   "file_extension": ".py",
   "mimetype": "text/x-python",
   "name": "python",
   "nbconvert_exporter": "python",
   "pygments_lexer": "ipython3",
   "version": "3.6.6"
  }
 },
 "nbformat": 4,
 "nbformat_minor": 2
}
