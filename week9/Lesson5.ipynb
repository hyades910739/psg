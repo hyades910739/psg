{
 "cells": [
  {
   "cell_type": "markdown",
   "metadata": {},
   "source": [
    "## 運算符重載"
   ]
  },
  {
   "cell_type": "markdown",
   "metadata": {},
   "source": [
    "### 索引和分片：__ getitem __ \n",
    "\n",
    "```python\n",
    "class Louis:\n",
    "    pass\n",
    "Louis[1]\n",
    "```"
   ]
  },
  {
   "cell_type": "markdown",
   "metadata": {},
   "source": [
    "### 索引"
   ]
  },
  {
   "cell_type": "code",
   "execution_count": 8,
   "metadata": {},
   "outputs": [
    {
     "data": {
      "text/plain": [
       "4"
      ]
     },
     "metadata": {},
     "output_type": "display_data"
    },
    {
     "name": "stdout",
     "output_type": "stream",
     "text": [
      "0 1 4 9 16 "
     ]
    }
   ],
   "source": [
    "class Indexer:\n",
    "    def __getitem__(self, index):\n",
    "        return index ** 2\n",
    "\n",
    "X = Indexer()\n",
    "display(X[2])\n",
    "\n",
    "for i in range(5):\n",
    "    print(X[i], end=' ')"
   ]
  },
  {
   "cell_type": "markdown",
   "metadata": {},
   "source": [
    "### 分片"
   ]
  },
  {
   "cell_type": "code",
   "execution_count": 5,
   "metadata": {},
   "outputs": [
    {
     "name": "stdout",
     "output_type": "stream",
     "text": [
      "getitem:  slice(2, 4, None)\n"
     ]
    },
    {
     "data": {
      "text/plain": [
       "[7, 8]"
      ]
     },
     "metadata": {},
     "output_type": "display_data"
    },
    {
     "name": "stdout",
     "output_type": "stream",
     "text": [
      "getitem:  slice(1, None, None)\n"
     ]
    },
    {
     "data": {
      "text/plain": [
       "[6, 7, 8, 9]"
      ]
     },
     "metadata": {},
     "output_type": "display_data"
    }
   ],
   "source": [
    "class Indexer:\n",
    "    data = [5, 6, 7, 8, 9]\n",
    "    def __getitem__(self, index):\n",
    "        print('getitem: ', index)\n",
    "        return self.data[index]\n",
    "    \n",
    "X = Indexer()\n",
    "display(X[2:4])\n",
    "display(X[1:])\n",
    "\n",
    "\n",
    "## X[2:4] == X[slice(2, 4)]"
   ]
  },
  {
   "cell_type": "markdown",
   "metadata": {},
   "source": [
    "### 索引迭代\n",
    "for 語句的作用是從0到更大的索引值，重複對序列進行索引運算，直到超出邊界的異常"
   ]
  },
  {
   "cell_type": "code",
   "execution_count": 10,
   "metadata": {},
   "outputs": [
    {
     "data": {
      "text/plain": [
       "'p'"
      ]
     },
     "metadata": {},
     "output_type": "display_data"
    },
    {
     "name": "stdout",
     "output_type": "stream",
     "text": [
      "S p a m "
     ]
    }
   ],
   "source": [
    "class Stepper:\n",
    "    def __getitem__(self, i):\n",
    "        return self.data[i]\n",
    "    \n",
    "X = Stepper()\n",
    "X.data = \"Spam\"\n",
    "display(X[1])\n",
    "\n",
    "for item in X:\n",
    "    print(item, end=' ')"
   ]
  },
  {
   "cell_type": "code",
   "execution_count": 11,
   "metadata": {},
   "outputs": [
    {
     "name": "stdout",
     "output_type": "stream",
     "text": [
      "True\n",
      "['S', 'p', 'a', 'm']\n",
      "['S', 'P', 'A', 'M']\n"
     ]
    }
   ],
   "source": [
    "print('p' in X)\n",
    "\n",
    "print([c for c in X])\n",
    "\n",
    "print(list(map(str.upper, X)))"
   ]
  },
  {
   "cell_type": "markdown",
   "metadata": {},
   "source": [
    "### 迭代器對象： __ iter __ 和 __ next__\n",
    "\n",
    "迭代環境是通過調用內置函數 iter 去嘗試尋找 __ iter __ 方法來實現，而這種方法應該返回一個迭代器對象\n",
    "\n",
    "如果已經有迭代器，python 會重複調用 next 的方法，直到發生 StopIteration 異常"
   ]
  },
  {
   "cell_type": "code",
   "execution_count": 17,
   "metadata": {},
   "outputs": [
    {
     "name": "stdout",
     "output_type": "stream",
     "text": [
      "1\n",
      "4\n",
      "9\n",
      "16\n",
      "25\n"
     ]
    }
   ],
   "source": [
    "class Squares:\n",
    "    def __init__(self, start, stop):\n",
    "        self.value = start - 1\n",
    "        self.stop = stop\n",
    "    def __iter__(self):\n",
    "        return self\n",
    "    def __next__(self):\n",
    "        if self.value == self.stop:\n",
    "            raise StopIteration\n",
    "        self.value += 1\n",
    "        return self.value ** 2\n",
    "    \n",
    "X = Squares(1, 5)\n",
    "for i in X:\n",
    "    print(i)\n",
    "\n",
    "for i in X:\n",
    "    print(i)\n",
    "    "
   ]
  },
  {
   "cell_type": "code",
   "execution_count": 19,
   "metadata": {},
   "outputs": [
    {
     "name": "stdout",
     "output_type": "stream",
     "text": [
      "1\n",
      "4\n",
      "9\n",
      "16\n",
      "25\n"
     ]
    }
   ],
   "source": [
    "X = Squares(1, 5)\n",
    "for i in X:\n",
    "    print(i)"
   ]
  },
  {
   "cell_type": "markdown",
   "metadata": {},
   "source": [
    "### 屬性引用： __ getattr__ 和 __ setattr __\n",
    "\n",
    "__ getattr __ : 當通過對未定義（不存在）屬性名稱和實例進行點號運算時，就會自動調用這個方法"
   ]
  },
  {
   "cell_type": "code",
   "execution_count": 21,
   "metadata": {},
   "outputs": [
    {
     "ename": "SyntaxError",
     "evalue": "invalid syntax (<ipython-input-21-b197a6d30004>, line 6)",
     "output_type": "error",
     "traceback": [
      "\u001b[0;36m  File \u001b[0;32m\"<ipython-input-21-b197a6d30004>\"\u001b[0;36m, line \u001b[0;32m6\u001b[0m\n\u001b[0;31m    raise AttributeError, attrname\u001b[0m\n\u001b[0m                        ^\u001b[0m\n\u001b[0;31mSyntaxError\u001b[0m\u001b[0;31m:\u001b[0m invalid syntax\n"
     ]
    }
   ],
   "source": [
    "class Empty:\n",
    "    def __getattr__(self, attrname):\n",
    "        if attrname == \"age\":\n",
    "            return 40\n",
    "        else:\n",
    "            raise AttributeError, attrname\n",
    "            \n",
    "X = Empty()\n",
    "print(X.age)\n",
    "X.name\n"
   ]
  },
  {
   "cell_type": "markdown",
   "metadata": {},
   "source": [
    "__ setattr __ 會攔截所有屬性的賦值語句\n",
    "self.attr = value 會變成 self.__ setattr __ ('attr', value)"
   ]
  },
  {
   "cell_type": "code",
   "execution_count": 25,
   "metadata": {},
   "outputs": [
    {
     "ename": "AttributeError",
     "evalue": "",
     "output_type": "error",
     "traceback": [
      "\u001b[0;31m---------------------------------------------------------------------------\u001b[0m",
      "\u001b[0;31mAttributeError\u001b[0m                            Traceback (most recent call last)",
      "\u001b[0;32m<ipython-input-25-051a68d79ca3>\u001b[0m in \u001b[0;36m<module>\u001b[0;34m\u001b[0m\n\u001b[1;32m     10\u001b[0m \u001b[0mX\u001b[0m\u001b[0;34m.\u001b[0m\u001b[0mage\u001b[0m \u001b[0;34m=\u001b[0m \u001b[0;36m40\u001b[0m\u001b[0;34m\u001b[0m\u001b[0m\n\u001b[1;32m     11\u001b[0m \u001b[0;31m# display(X.age)\u001b[0m\u001b[0;34m\u001b[0m\u001b[0;34m\u001b[0m\u001b[0m\n\u001b[0;32m---> 12\u001b[0;31m \u001b[0mX\u001b[0m\u001b[0;34m.\u001b[0m\u001b[0mname\u001b[0m \u001b[0;34m=\u001b[0m \u001b[0;34m'mel'\u001b[0m\u001b[0;34m\u001b[0m\u001b[0m\n\u001b[0m",
      "\u001b[0;32m<ipython-input-25-051a68d79ca3>\u001b[0m in \u001b[0;36m__setattr__\u001b[0;34m(self, attr, value)\u001b[0m\n\u001b[1;32m      5\u001b[0m             \u001b[0;31m## self.attr = value 不能這樣寫 不然又會調用 __setattr__\u001b[0m\u001b[0;34m\u001b[0m\u001b[0;34m\u001b[0m\u001b[0m\n\u001b[1;32m      6\u001b[0m         \u001b[0;32melse\u001b[0m\u001b[0;34m:\u001b[0m\u001b[0;34m\u001b[0m\u001b[0m\n\u001b[0;32m----> 7\u001b[0;31m             \u001b[0;32mraise\u001b[0m \u001b[0mAttributeError\u001b[0m\u001b[0;34m\u001b[0m\u001b[0m\n\u001b[0m\u001b[1;32m      8\u001b[0m \u001b[0;34m\u001b[0m\u001b[0m\n\u001b[1;32m      9\u001b[0m \u001b[0mX\u001b[0m \u001b[0;34m=\u001b[0m \u001b[0mAccesscontrol\u001b[0m\u001b[0;34m(\u001b[0m\u001b[0;34m)\u001b[0m\u001b[0;34m\u001b[0m\u001b[0m\n",
      "\u001b[0;31mAttributeError\u001b[0m: "
     ]
    }
   ],
   "source": [
    "class Accesscontrol:\n",
    "    def __setattr__(self, attr, value):\n",
    "        if attr == 'age':\n",
    "            self.__dict__[attr] = value\n",
    "            ## self.attr = value 不能這樣寫 不然又會調用 __setattr__\n",
    "        else:\n",
    "            raise AttributeError\n",
    "            \n",
    "X = Accesscontrol()\n",
    "X.age = 40\n",
    "display(X.age)\n",
    "X.name = 'mel'"
   ]
  },
  {
   "cell_type": "markdown",
   "metadata": {},
   "source": [
    "### __ repr __  和 __ str __ 處理字串表述形式"
   ]
  },
  {
   "cell_type": "code",
   "execution_count": 26,
   "metadata": {},
   "outputs": [
    {
     "name": "stdout",
     "output_type": "stream",
     "text": [
      "<__main__.adder object at 0x111b78390>\n"
     ]
    }
   ],
   "source": [
    "class adder:\n",
    "    def __init__(self, value=0):\n",
    "        self.data = value\n",
    "    def __add__(self, other):\n",
    "        self.data += other\n",
    "        \n",
    "x = adder()\n",
    "print(x)"
   ]
  },
  {
   "cell_type": "code",
   "execution_count": 29,
   "metadata": {},
   "outputs": [
    {
     "data": {
      "text/plain": [
       "addrepr(3)"
      ]
     },
     "execution_count": 29,
     "metadata": {},
     "output_type": "execute_result"
    }
   ],
   "source": [
    "class addrepr(adder):\n",
    "    def __repr__(self):\n",
    "        return 'addrepr(%s)' % self.data\n",
    "    \n",
    "    def __str__(self):\n",
    "        return '[Value: %s]' % self.data\n",
    "x = addrepr(2)\n",
    "x + 1\n",
    "x"
   ]
  },
  {
   "cell_type": "code",
   "execution_count": 30,
   "metadata": {},
   "outputs": [
    {
     "name": "stdout",
     "output_type": "stream",
     "text": [
      "[Value: 3]\n"
     ]
    }
   ],
   "source": [
    "print(x)"
   ]
  },
  {
   "cell_type": "markdown",
   "metadata": {},
   "source": [
    "### Call 表述式： __ call __\n",
    "讓實例的外觀和用法類似於函數"
   ]
  },
  {
   "cell_type": "code",
   "execution_count": 31,
   "metadata": {},
   "outputs": [
    {
     "data": {
      "text/plain": [
       "6"
      ]
     },
     "execution_count": 31,
     "metadata": {},
     "output_type": "execute_result"
    }
   ],
   "source": [
    "class Prod:\n",
    "    def __init__(self, value):\n",
    "        self.value = value\n",
    "    def __call__(self, other):\n",
    "        return self.value * other\n",
    "    \n",
    "x = Prod(2)\n",
    "x(3)"
   ]
  },
  {
   "cell_type": "markdown",
   "metadata": {},
   "source": [
    "### 布林測試： __ bool __ 和 __ len __"
   ]
  },
  {
   "cell_type": "code",
   "execution_count": 32,
   "metadata": {},
   "outputs": [
    {
     "name": "stdout",
     "output_type": "stream",
     "text": [
      "yes!\n"
     ]
    }
   ],
   "source": [
    "class Truth:\n",
    "    def __bool__(self): return True\n",
    "    \n",
    "X = Truth()\n",
    "if X: print('yes!')"
   ]
  },
  {
   "cell_type": "markdown",
   "metadata": {},
   "source": [
    "如果沒有 __ bool __ ，會退而求其次選擇調用 __ len __"
   ]
  },
  {
   "cell_type": "code",
   "execution_count": 33,
   "metadata": {},
   "outputs": [
    {
     "name": "stdout",
     "output_type": "stream",
     "text": [
      "no!\n"
     ]
    }
   ],
   "source": [
    "class Truth:\n",
    "    def __len__(self): return 0\n",
    "    \n",
    "X = Truth()\n",
    "if not X: print('no!')"
   ]
  },
  {
   "cell_type": "code",
   "execution_count": null,
   "metadata": {},
   "outputs": [],
   "source": []
  }
 ],
 "metadata": {
  "kernelspec": {
   "display_name": "Python 3",
   "language": "python",
   "name": "python3"
  },
  "language_info": {
   "codemirror_mode": {
    "name": "ipython",
    "version": 3
   },
   "file_extension": ".py",
   "mimetype": "text/x-python",
   "name": "python",
   "nbconvert_exporter": "python",
   "pygments_lexer": "ipython3",
   "version": "3.6.5"
  }
 },
 "nbformat": 4,
 "nbformat_minor": 2
}
