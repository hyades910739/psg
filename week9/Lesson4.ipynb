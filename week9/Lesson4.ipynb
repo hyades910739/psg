{
 "cells": [
  {
   "cell_type": "markdown",
   "metadata": {},
   "source": [
    "## 類編碼的細節"
   ]
  },
  {
   "cell_type": "markdown",
   "metadata": {},
   "source": [
    "### 類就像模塊和函數\n",
    "* 就像函數一樣，class 語句是本地作用域，由內嵌的附值語句建立的變量名，就存在這個本地作用域內\n",
    "* 就像模塊內的變量名，在 class 語句內附值得變量明會變成類對象中的屬性"
   ]
  },
  {
   "cell_type": "code",
   "execution_count": 3,
   "metadata": {},
   "outputs": [
    {
     "data": {
      "text/plain": [
       "(42, 42)"
      ]
     },
     "execution_count": 3,
     "metadata": {},
     "output_type": "execute_result"
    }
   ],
   "source": [
    "class SharedData:\n",
    "    spam = 42\n",
    "\n",
    "x = SharedData()\n",
    "y = SharedData()\n",
    "x.spam, y.spam\n",
    "\n",
    "## 因為 spam 是在 class 頂層賦值的，因此所有的實例都會共享"
   ]
  },
  {
   "cell_type": "code",
   "execution_count": 4,
   "metadata": {},
   "outputs": [
    {
     "data": {
      "text/plain": [
       "(99, 99, 99)"
      ]
     },
     "execution_count": 4,
     "metadata": {},
     "output_type": "execute_result"
    }
   ],
   "source": [
    "SharedData.spam = 99\n",
    "x.spam, y.spam, SharedData.spam"
   ]
  },
  {
   "cell_type": "code",
   "execution_count": 7,
   "metadata": {},
   "outputs": [
    {
     "data": {
      "text/plain": [
       "(88, 99, 99)"
      ]
     },
     "execution_count": 7,
     "metadata": {},
     "output_type": "execute_result"
    }
   ],
   "source": [
    "x.spam = 88\n",
    "x.spam, y.spam, SharedData.spam\n",
    "## 對實例的屬性進行賦值運算會在該實例內創建或修改，而不是在共享的類\n",
    "## y.spam 繼續從類中找尋spam，但是 x.spam 進行賦值運算則會把變量名附加在 x 本身上"
   ]
  },
  {
   "cell_type": "code",
   "execution_count": 8,
   "metadata": {},
   "outputs": [
    {
     "name": "stdout",
     "output_type": "stream",
     "text": [
      "1 spam\n",
      "2 spam\n"
     ]
    }
   ],
   "source": [
    "class MixedNames:\n",
    "    data = 'spam'\n",
    "    def __init__(self, value):\n",
    "        self.data = value\n",
    "    def display(self):\n",
    "        print(self.data, MixedNames.data)\n",
    "\n",
    "x = MixedNames(1)\n",
    "y = MixedNames(2)\n",
    "x.display()\n",
    "y.display()"
   ]
  },
  {
   "cell_type": "markdown",
   "metadata": {},
   "source": [
    "### 調用超類構造函數"
   ]
  },
  {
   "cell_type": "code",
   "execution_count": 9,
   "metadata": {},
   "outputs": [],
   "source": [
    "class Super:\n",
    "    def __init__(self, x):\n",
    "        pass\n",
    "class Sub(Super):\n",
    "    def __init__(self, x, y):\n",
    "        Super.__init__(self, x)\n",
    "        ...\n",
    "\n",
    "I = Sub(1, 2)"
   ]
  },
  {
   "cell_type": "markdown",
   "metadata": {},
   "source": [
    "### 繼承方法的專有化\n",
    "子類可以對超類的屬性或方法重新定義"
   ]
  },
  {
   "cell_type": "code",
   "execution_count": 10,
   "metadata": {},
   "outputs": [
    {
     "name": "stdout",
     "output_type": "stream",
     "text": [
      "in Super.method\n",
      "starting Sub.method\n",
      "in Super.method\n",
      "ending Sub.method\n"
     ]
    }
   ],
   "source": [
    "class Super:\n",
    "    def method(self):\n",
    "        print('in Super.method')\n",
    "\n",
    "        \n",
    "class Sub(Super):\n",
    "    def method(self):\n",
    "        print('starting Sub.method')\n",
    "        Super.method(self)\n",
    "        print('ending Sub.method')\n",
    "        \n",
    "x = Super()\n",
    "x.method()\n",
    "\n",
    "x = Sub()\n",
    "x.method()\n"
   ]
  },
  {
   "cell_type": "markdown",
   "metadata": {},
   "source": [
    "### 命名空間總整理"
   ]
  },
  {
   "cell_type": "code",
   "execution_count": 12,
   "metadata": {},
   "outputs": [
    {
     "name": "stdout",
     "output_type": "stream",
     "text": [
      "11\n",
      "11\n",
      "22\n",
      "11\n",
      "33\n"
     ]
    }
   ],
   "source": [
    "X = 11\n",
    "def f():\n",
    "    print(X)\n",
    "\n",
    "def g():\n",
    "    X = 22\n",
    "    print(X)\n",
    "\n",
    "class C:\n",
    "    X = 33\n",
    "    def m(self):\n",
    "        X = 44\n",
    "        self.X = 55\n",
    "        \n",
    "print(X)\n",
    "f()\n",
    "g()\n",
    "print(X)\n",
    "obj = C()\n",
    "print(obj.X)\n",
    "obj.m()"
   ]
  },
  {
   "cell_type": "markdown",
   "metadata": {},
   "source": [
    "### 命名空間字典\n",
    "實例中有個 __ class __ 屬性連接到他的類\n",
    "\n",
    "類有個屬性 __ bases __ 是一個 tuple 包含的類所連接到的超類\n",
    "\n",
    "__ dict __ 則是類或實例的命名空間中的對應關係，但卻沒辦法表現出類或實例繼承的方法"
   ]
  },
  {
   "cell_type": "code",
   "execution_count": 16,
   "metadata": {},
   "outputs": [
    {
     "data": {
      "text/plain": [
       "{}"
      ]
     },
     "metadata": {},
     "output_type": "display_data"
    },
    {
     "data": {
      "text/plain": [
       "__main__.Sub"
      ]
     },
     "metadata": {},
     "output_type": "display_data"
    },
    {
     "data": {
      "text/plain": [
       "(__main__.Super,)"
      ]
     },
     "metadata": {},
     "output_type": "display_data"
    }
   ],
   "source": [
    "class Super:\n",
    "    def hello(self):\n",
    "        self.data1 = 'spam'\n",
    "        \n",
    "class Sub(Super):\n",
    "    def hola(self):\n",
    "        self.data2 = 'eggs'\n",
    "\n",
    "X = Sub()\n",
    "display(X.__dict__)\n",
    "display(X.__class__)\n",
    "display(Sub.__bases__)"
   ]
  },
  {
   "cell_type": "code",
   "execution_count": 18,
   "metadata": {},
   "outputs": [
    {
     "data": {
      "text/plain": [
       "{'data1': 'spam'}"
      ]
     },
     "metadata": {},
     "output_type": "display_data"
    },
    {
     "data": {
      "text/plain": [
       "{'data1': 'spam', 'data2': 'eggs'}"
      ]
     },
     "metadata": {},
     "output_type": "display_data"
    }
   ],
   "source": [
    "Y = Sub()\n",
    "X.hello()\n",
    "display(X.__dict__)\n",
    "X.hola()\n",
    "display(X.__dict__)"
   ]
  },
  {
   "cell_type": "code",
   "execution_count": 19,
   "metadata": {},
   "outputs": [
    {
     "data": {
      "text/plain": [
       "['__class__',\n",
       " '__delattr__',\n",
       " '__dict__',\n",
       " '__dir__',\n",
       " '__doc__',\n",
       " '__eq__',\n",
       " '__format__',\n",
       " '__ge__',\n",
       " '__getattribute__',\n",
       " '__gt__',\n",
       " '__hash__',\n",
       " '__init__',\n",
       " '__init_subclass__',\n",
       " '__le__',\n",
       " '__lt__',\n",
       " '__module__',\n",
       " '__ne__',\n",
       " '__new__',\n",
       " '__reduce__',\n",
       " '__reduce_ex__',\n",
       " '__repr__',\n",
       " '__setattr__',\n",
       " '__sizeof__',\n",
       " '__str__',\n",
       " '__subclasshook__',\n",
       " '__weakref__',\n",
       " 'data1',\n",
       " 'data2',\n",
       " 'hello',\n",
       " 'hola']"
      ]
     },
     "execution_count": 19,
     "metadata": {},
     "output_type": "execute_result"
    }
   ],
   "source": [
    "dir(X)"
   ]
  },
  {
   "cell_type": "code",
   "execution_count": null,
   "metadata": {},
   "outputs": [],
   "source": []
  }
 ],
 "metadata": {
  "kernelspec": {
   "display_name": "Python 3",
   "language": "python",
   "name": "python3"
  },
  "language_info": {
   "codemirror_mode": {
    "name": "ipython",
    "version": 3
   },
   "file_extension": ".py",
   "mimetype": "text/x-python",
   "name": "python",
   "nbconvert_exporter": "python",
   "pygments_lexer": "ipython3",
   "version": "3.6.5"
  }
 },
 "nbformat": 4,
 "nbformat_minor": 2
}
